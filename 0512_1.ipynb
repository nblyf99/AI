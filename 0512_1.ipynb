{
 "cells": [
  {
   "cell_type": "code",
   "execution_count": 13,
   "id": "4a3a7f57",
   "metadata": {},
   "outputs": [],
   "source": [
    "from sklearn.model_selection import train_test_split\n",
    "from sklearn.cluster import KMeans\n",
    "from time import time\n",
    "import numpy as np\n",
    "import matplotlib.pyplot as plt\n",
    "from sklearn import metrics"
   ]
  },
  {
   "cell_type": "code",
   "execution_count": 14,
   "id": "c4518071",
   "metadata": {},
   "outputs": [
    {
     "name": "stdout",
     "output_type": "stream",
     "text": [
      "集群中心的坐標： [[2.1 2.1]\n",
      " [1.1 1.1]]\n",
      "預測： [1 1 1 0 0 0]\n",
      "實際： [1, 1, 1, 0, 0, 0]\n",
      "預測[1, 1], [2.3, 2.1]： [1 0]\n"
     ]
    }
   ],
   "source": [
    "X = np.array([[1, 1], [1.1, 1.1], [1.2, 1.2], [2, 2], [2.1, 2.1], [2.2, 2.2]])\n",
    "y = [1,1,1,0,0,0]\n",
    "kmeans = KMeans(n_clusters=2, random_state=0).fit(X)\n",
    "print(\"集群中心的坐標：\", kmeans.cluster_centers_)\n",
    "print(\"預測：\", kmeans.predict(X))\n",
    "print(\"實際：\", y)\n",
    "print(\"預測[1, 1], [2.3, 2.1]：\", kmeans.predict([[1, 1], [2.3, 2.1]]))"
   ]
  },
  {
   "cell_type": "code",
   "execution_count": 15,
   "id": "de12c538",
   "metadata": {},
   "outputs": [
    {
     "data": {
      "image/png": "[encoded data removed]",
      "text/plain": [
       "<Figure size 432x288 with 1 Axes>"
      ]
     },
     "metadata": {},
     "output_type": "display_data"
    }
   ],
   "source": [
    "plt.axis([0, 3, 0, 3])\n",
    "plt.plot(X[:3,0], X[:3,1], 'yx')\n",
    "plt.plot(X[3:,0], X[3:,1], 'g.')\n",
    "plt.plot(kmeans.cluster_centers_[:,0], kmeans.cluster_centers_[:,1], 'ro')\n",
    "plt.xticks(())\n",
    "plt.yticks(())\n",
    "plt.show()"
   ]
  },
  {
   "cell_type": "code",
   "execution_count": null,
   "id": "5fa322cb",
   "metadata": {},
   "outputs": [],
   "source": []
  }
 ],
 "metadata": {
  "kernelspec": {
   "display_name": "Python 3",
   "language": "python",
   "name": "python3"
  },
  "language_info": {
   "codemirror_mode": {
    "name": "ipython",
    "version": 3
   },
   "file_extension": ".py",
   "mimetype": "text/x-python",
   "name": "python",
   "nbconvert_exporter": "python",
   "pygments_lexer": "ipython3",
   "version": "3.6.13"
  }
 },
 "nbformat": 4,
 "nbformat_minor": 5
}
